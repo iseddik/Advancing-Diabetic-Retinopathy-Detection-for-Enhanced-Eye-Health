{
  "cells": [
    {
      "cell_type": "markdown",
      "source": [
        "***Note:*** *It is important to keep in mind that only the left eye data is being used as input, and the performance metrics are based solely on the left eye's predictive capabilities for the given classification task. If additional input data is required or desired for a comprehensive evaluation, further modifications to the code may be needed.*"
      ],
      "metadata": {
        "id": "2d0RF4U2kgxY"
      }
    },
    {
      "cell_type": "markdown",
      "metadata": {
        "id": "1PC4wU0SWkxb"
      },
      "source": [
        "*Importing Libraries*"
      ]
    },
    {
      "cell_type": "code",
      "execution_count": 1,
      "metadata": {
        "id": "RINGu9BoG5cc"
      },
      "outputs": [],
      "source": [
        "import numpy as np\n",
        "from sklearn.tree import DecisionTreeClassifier\n",
        "from sklearn.ensemble import RandomForestClassifier, GradientBoostingClassifier, AdaBoostClassifier\n",
        "from sklearn.linear_model import LogisticRegression, RidgeClassifier, SGDClassifier\n",
        "from sklearn.svm import SVC, LinearSVC\n",
        "from sklearn.neighbors import KNeighborsClassifier\n",
        "from sklearn.naive_bayes import GaussianNB\n",
        "from sklearn.neural_network import MLPClassifier\n",
        "from sklearn.metrics import accuracy_score, precision_score, recall_score, f1_score, matthews_corrcoef\n",
        "import cv2\n",
        "from sklearn.model_selection import train_test_split\n",
        "import pandas as pd\n",
        "import zipfile\n",
        "import os\n",
        "import re\n",
        "import random\n",
        "import time\n",
        "from keras.utils import to_categorical\n",
        "import matplotlib.pyplot as plt\n",
        "from sklearn.metrics import confusion_matrix"
      ]
    },
    {
      "cell_type": "markdown",
      "metadata": {
        "id": "LgUDWhCoWqe5"
      },
      "source": [
        "*Setting up Kaggle and Downloading Diabetic Retinopathy Dataset*"
      ]
    },
    {
      "cell_type": "code",
      "execution_count": 2,
      "metadata": {
        "colab": {
          "base_uri": "https://localhost:8080/"
        },
        "id": "qLCFjnw3NTeU",
        "outputId": "ea7224fa-fe3d-4e25-b994-a6c69c63c3a0"
      },
      "outputs": [
        {
          "output_type": "stream",
          "name": "stdout",
          "text": [
            "Requirement already satisfied: kaggle in /usr/local/lib/python3.10/dist-packages (1.5.15)\n",
            "Requirement already satisfied: six>=1.10 in /usr/local/lib/python3.10/dist-packages (from kaggle) (1.16.0)\n",
            "Requirement already satisfied: certifi in /usr/local/lib/python3.10/dist-packages (from kaggle) (2023.5.7)\n",
            "Requirement already satisfied: python-dateutil in /usr/local/lib/python3.10/dist-packages (from kaggle) (2.8.2)\n",
            "Requirement already satisfied: requests in /usr/local/lib/python3.10/dist-packages (from kaggle) (2.27.1)\n",
            "Requirement already satisfied: tqdm in /usr/local/lib/python3.10/dist-packages (from kaggle) (4.65.0)\n",
            "Requirement already satisfied: python-slugify in /usr/local/lib/python3.10/dist-packages (from kaggle) (8.0.1)\n",
            "Requirement already satisfied: urllib3 in /usr/local/lib/python3.10/dist-packages (from kaggle) (1.26.16)\n",
            "Requirement already satisfied: bleach in /usr/local/lib/python3.10/dist-packages (from kaggle) (6.0.0)\n",
            "Requirement already satisfied: webencodings in /usr/local/lib/python3.10/dist-packages (from bleach->kaggle) (0.5.1)\n",
            "Requirement already satisfied: text-unidecode>=1.3 in /usr/local/lib/python3.10/dist-packages (from python-slugify->kaggle) (1.3)\n",
            "Requirement already satisfied: charset-normalizer~=2.0.0 in /usr/local/lib/python3.10/dist-packages (from requests->kaggle) (2.0.12)\n",
            "Requirement already satisfied: idna<4,>=2.5 in /usr/local/lib/python3.10/dist-packages (from requests->kaggle) (3.4)\n",
            "Downloading diabetic-retinopathy-resized-arranged.zip to /content\n",
            "100% 1.21G/1.21G [00:53<00:00, 28.5MB/s]\n",
            "100% 1.21G/1.21G [00:53<00:00, 24.0MB/s]\n"
          ]
        }
      ],
      "source": [
        "!pip install kaggle\n",
        "!mkdir ~/.kaggle\n",
        "!cp /content/kaggle.json /root/.kaggle/\n",
        "!chmod 600 /root/.kaggle/kaggle.json\n",
        "!kaggle datasets download -d amanneo/diabetic-retinopathy-resized-arranged\n",
        "\n",
        "# Open the zip file\n",
        "with zipfile.ZipFile(\"/content/diabetic-retinopathy-resized-arranged.zip\", \"r\") as zip_ref:\n",
        "    # Extract all contents of the zip file to the current working directory\n",
        "    zip_ref.extractall()"
      ]
    },
    {
      "cell_type": "markdown",
      "metadata": {
        "id": "1_SBGn8UZqxl"
      },
      "source": [
        "*Classifier Trainer with Multiple ML Algorithms*"
      ]
    },
    {
      "cell_type": "code",
      "execution_count": 2,
      "metadata": {
        "id": "8jHp4DSyHINI"
      },
      "outputs": [],
      "source": [
        "class ClassifierTrainer:\n",
        "\n",
        "    def __init__(self, algorithm='decision_tree', **kwargs):\n",
        "        self.algorithm = algorithm\n",
        "\n",
        "        if algorithm == 'decision_tree':\n",
        "            self.model = DecisionTreeClassifier()\n",
        "        elif algorithm == 'random_forest':\n",
        "            self.model = RandomForestClassifier()\n",
        "        elif algorithm == 'logistic_regression':\n",
        "            self.model = LogisticRegression()\n",
        "        elif algorithm == 'ridge_regression':\n",
        "            self.model = RidgeClassifier()\n",
        "        elif algorithm == 'sgd':\n",
        "            self.model = SGDClassifier()\n",
        "        elif algorithm == 'svm':\n",
        "            self.model = SVC()\n",
        "        elif algorithm == 'linear_svm':\n",
        "            self.model = LinearSVC()\n",
        "        elif algorithm == 'knn':\n",
        "            self.model = KNeighborsClassifier()\n",
        "        elif algorithm == 'naive_bayes':\n",
        "            self.model = GaussianNB()\n",
        "        elif algorithm == 'mlp':\n",
        "            self.model = MLPClassifier()\n",
        "        elif algorithm == 'adaboost':\n",
        "            self.model = AdaBoostClassifier()\n",
        "        elif algorithm == 'gradient_boost':\n",
        "            self.model = GradientBoostingClassifier()\n",
        "        else:\n",
        "            raise ValueError(\"Invalid algorithm specified\")\n",
        "\n",
        "    def train(self, X, y):\n",
        "        self.model.fit(X, y)\n",
        "\n",
        "    def predict(self, X):\n",
        "        return self.model.predict(X)\n",
        "\n",
        "    def evaluate(self, X_test, y_test):\n",
        "        y_pred = self.predict(X_test)\n",
        "        accuracy = accuracy_score(y_test, y_pred)\n",
        "        precision = precision_score(y_test, y_pred, average='macro')\n",
        "        recall = recall_score(y_test, y_pred, average='macro')\n",
        "        f1 = f1_score(y_test, y_pred, average='macro')\n",
        "        mcc = matthews_corrcoef(y_test, y_pred)\n",
        "        conf = confusion_matrix(y_test, y_pred)\n",
        "        return {\n",
        "          'Algo': self.algorithm,\n",
        "          'accuracy': accuracy,\n",
        "          'precision': precision,\n",
        "          'recall': recall,\n",
        "          'f1': f1,\n",
        "          'mcc': mcc,\n",
        "          'conf': conf\n",
        "        }"
      ]
    },
    {
      "cell_type": "markdown",
      "metadata": {
        "id": "VbxSqatHbFqB"
      },
      "source": [
        "*List of Standard Machine Learning Models and Count*"
      ]
    },
    {
      "cell_type": "code",
      "execution_count": 25,
      "metadata": {
        "colab": {
          "base_uri": "https://localhost:8080/"
        },
        "id": "6s9FNScCHSc3",
        "outputId": "75456ddd-3c7d-4f19-da43-705076fd1ef1"
      },
      "outputs": [
        {
          "output_type": "execute_result",
          "data": {
            "text/plain": [
              "7"
            ]
          },
          "metadata": {},
          "execution_count": 25
        }
      ],
      "source": [
        "standModels = ['decision_tree',\n",
        "               'random_forest',\n",
        "               'sgd',\n",
        "               'svm',\n",
        "               'knn',\n",
        "               'naive_bayes',\n",
        "               'mlp',]\n",
        "len(standModels)"
      ]
    },
    {
      "cell_type": "markdown",
      "source": [
        "*Eye Image Data Preprocessing Function*"
      ],
      "metadata": {
        "id": "UytYiNcnWpbK"
      }
    },
    {
      "cell_type": "code",
      "execution_count": 3,
      "metadata": {
        "id": "_lKIzC8KHhOC"
      },
      "outputs": [],
      "source": [
        "def import_eyes_images(df, Eye):\n",
        "    images_eye = []\n",
        "    labels = []\n",
        "    for index, row in df.iterrows():\n",
        "        eye_path = row[Eye+'Eye']\n",
        "        label = float(row['class'])\n",
        "\n",
        "        # Load and resize eye eye image\n",
        "        eye = cv2.imread(eye_path)\n",
        "        eye = cv2.resize(eye, (224, 224))\n",
        "\n",
        "        # Append eye and right eye images to images list\n",
        "        images_eye.append(eye)\n",
        "\n",
        "        # Append label to labels list\n",
        "        labels.append(label)\n",
        "\n",
        "    # Convert lists to numpy arrays\n",
        "    images_eye = np.array(images_eye)\n",
        "    labels = np.array(labels)\n",
        "\n",
        "    return images_eye, labels"
      ]
    },
    {
      "cell_type": "markdown",
      "source": [
        "*Data Splitting and Image Normalization for Eye Input*"
      ],
      "metadata": {
        "id": "9C0Fyj-uWz-s"
      }
    },
    {
      "cell_type": "code",
      "execution_count": 4,
      "metadata": {
        "id": "QbHOL1ELHsL_"
      },
      "outputs": [],
      "source": [
        "def split_and_norm(eye_input, y):\n",
        "    # Split data into training and testing sets\n",
        "    eye_input_train, eye_input_test, y_train, y_test = train_test_split(eye_input, y, test_size=0.2, random_state=42)\n",
        "\n",
        "    # Normalize pixel values of images\n",
        "    eye_input_train = eye_input_train / 255.0\n",
        "    eye_input_test = eye_input_test / 255.0\n",
        "\n",
        "    return (\n",
        "        eye_input_train,\n",
        "        eye_input_test,\n",
        "        y_train,\n",
        "        y_test\n",
        "    )"
      ]
    },
    {
      "cell_type": "markdown",
      "source": [
        "*Data Import and Left Eye Image Preprocessing*"
      ],
      "metadata": {
        "id": "c-Or05fpW864"
      }
    },
    {
      "cell_type": "code",
      "execution_count": 5,
      "metadata": {
        "colab": {
          "base_uri": "https://localhost:8080/"
        },
        "id": "Un6n4zYhH3ge",
        "outputId": "ec2dd3ac-62b7-4f18-bb07-1eaaf3cebdae"
      },
      "outputs": [
        {
          "output_type": "execute_result",
          "data": {
            "text/plain": [
              "(1710, 224, 224, 3)"
            ]
          },
          "metadata": {},
          "execution_count": 5
        }
      ],
      "source": [
        "df = pd.read_csv(\"balancedData.csv\")\n",
        "left_eye_input, y = import_eyes_images(df, 'left')\n",
        "left_eye_input.shape"
      ]
    },
    {
      "cell_type": "code",
      "execution_count": 6,
      "metadata": {
        "id": "2LAYlZA6ItXU"
      },
      "outputs": [],
      "source": [
        "left_input_train, left_input_test, y_train, y_test = split_and_norm(left_eye_input, y)"
      ]
    },
    {
      "cell_type": "code",
      "execution_count": 7,
      "metadata": {
        "colab": {
          "base_uri": "https://localhost:8080/"
        },
        "id": "7zOIcnFIIxJv",
        "outputId": "4ef48152-2104-49fe-f0bf-8de253cf04d7"
      },
      "outputs": [
        {
          "output_type": "execute_result",
          "data": {
            "text/plain": [
              "((342, 224, 224, 3), (342,))"
            ]
          },
          "metadata": {},
          "execution_count": 7
        }
      ],
      "source": [
        "left_input_test.shape, y_test.shape"
      ]
    },
    {
      "cell_type": "markdown",
      "source": [
        "*Multi-Algorithm Training and Evaluation for Image Classification*"
      ],
      "metadata": {
        "id": "I7slQ6IQXYyk"
      }
    },
    {
      "cell_type": "code",
      "execution_count": 26,
      "metadata": {
        "id": "0PGcf591e64Y"
      },
      "outputs": [],
      "source": [
        "def train_list_models(list_model, X_train, Y_train, X_test, Y_test):\n",
        "  accuracy = {}\n",
        "  f1 = {}\n",
        "  mcc = {}\n",
        "  for algo in list_model:\n",
        "    print(f\"start: {algo}\")\n",
        "    start = time.time()\n",
        "    testModel = ClassifierTrainer(algo)\n",
        "    #train model\n",
        "    X = X_train.reshape(X_train.shape[0], -1)\n",
        "    testModel.train(X, Y_train)\n",
        "    end = time.time()\n",
        "    #test model\n",
        "    Xs = X_test.reshape(X_test.shape[0], -1)\n",
        "    model_eval = testModel.evaluate(Xs, Y_test)\n",
        "    accuracy[algo] = model_eval['accuracy']\n",
        "    f1[algo] = model_eval['f1']\n",
        "    mcc[algo] = model_eval['mcc']\n",
        "    model_eval[\"T_time\"] = end - start\n",
        "    print(algo+\" algo has trained\")\n",
        "  return accuracy, f1, mcc"
      ]
    },
    {
      "cell_type": "code",
      "source": [
        "accuracy, f1, mcc = train_list_models(standModels, left_input_train, y_train, left_input_test, y_test)"
      ],
      "metadata": {
        "colab": {
          "base_uri": "https://localhost:8080/"
        },
        "id": "IkY0iArJg3pM",
        "outputId": "2679f89f-de4f-46d0-b86c-e29b6066e08d"
      },
      "execution_count": 27,
      "outputs": [
        {
          "output_type": "stream",
          "name": "stdout",
          "text": [
            "start: decision_tree\n",
            "decision_tree algo has trained\n",
            "start: random_forest\n",
            "random_forest algo has trained\n",
            "start: sgd\n",
            "sgd algo has trained\n",
            "start: svm\n",
            "svm algo has trained\n",
            "start: knn\n",
            "knn algo has trained\n",
            "start: naive_bayes\n",
            "naive_bayes algo has trained\n",
            "start: mlp\n",
            "mlp algo has trained\n"
          ]
        }
      ]
    },
    {
      "cell_type": "markdown",
      "source": [
        "*Accuracy Comparison of Traditional Algorithms*"
      ],
      "metadata": {
        "id": "uZb-9NCskGXT"
      }
    },
    {
      "cell_type": "code",
      "execution_count": 33,
      "metadata": {
        "id": "gKImuEqMYPcO",
        "colab": {
          "base_uri": "https://localhost:8080/",
          "height": 472
        },
        "outputId": "0e9ed0f6-a410-4474-b45e-38eff6c59cbc"
      },
      "outputs": [
        {
          "output_type": "display_data",
          "data": {
            "text/plain": [
              "<Figure size 640x480 with 1 Axes>"
            ],
            "image/png": "[encoded data removed]"
          },
          "metadata": {}
        }
      ],
      "source": [
        "data = [x * 100 for x in accuracy.values()]\n",
        "algo = list(accuracy.keys())\n",
        "color = \"#794044\"\n",
        "\n",
        "fig, ax = plt.subplots()\n",
        "bars = ax.barh(np.arange(len(algo)), data, color=color)\n",
        "\n",
        "for i, bar in enumerate(bars):\n",
        "\n",
        "    ax.text(bar.get_width(), bar.get_y() + bar.get_height() / 2, str(data[i])[:5] + '%',\n",
        "            ha='left', va='center', color='gray', fontsize=8)\n",
        "\n",
        "ax.set_yticks(np.arange(len(algo)))  # Set y-ticks at each index position\n",
        "ax.set_yticklabels(algo, fontsize=6)  # Set y-tick labels as algorithm names\n",
        "ax.set_xlabel('Accuracy')\n",
        "ax.set_title('Accuracy of some traditional algorithms')\n",
        "ax.grid(True, linestyle='--', linewidth=0.5, alpha=0.5)\n",
        "\n",
        "# Add space on the right side of the chart\n",
        "plt.xlim(right=max(data) * 1.2)  # Adjust the multiplier as desired\n",
        "\n",
        "plt.savefig('Accuracy_of_some_traditional_algorithms.png', transparent=True)\n",
        "plt.show()"
      ]
    },
    {
      "cell_type": "markdown",
      "source": [
        "*Confusion Matrix Evaluation for Multiple Classifier Algorithms*"
      ],
      "metadata": {
        "id": "_uszqrAGka5A"
      }
    },
    {
      "cell_type": "code",
      "source": [
        "def get_conf_matrix(list_model, X_train, Y_train, X_test, Y_test):\n",
        "  conf = {}\n",
        "  for algo in list_model:\n",
        "    print(f\"start: {algo}\")\n",
        "    start = time.time()\n",
        "    testModel = ClassifierTrainer(algo)\n",
        "    #train model\n",
        "    X = X_train.reshape(X_train.shape[0], -1)\n",
        "    testModel.train(X, Y_train)\n",
        "    end = time.time()\n",
        "    #test model\n",
        "    Xs = X_test.reshape(X_test.shape[0], -1)\n",
        "    model_eval = testModel.evaluate(Xs, Y_test)\n",
        "    conf[algo] = model_eval['conf']\n",
        "    model_eval[\"T_time\"] = end - start\n",
        "    print(algo+\" algo has trained\")\n",
        "  return conf\n",
        "\n",
        "list_model = ['svm', 'random_forest', 'knn']\n",
        "conf = get_conf_matrix(list_model, left_input_train, y_train, left_input_test, y_test)"
      ],
      "metadata": {
        "colab": {
          "base_uri": "https://localhost:8080/"
        },
        "id": "DdMGezn0WR9n",
        "outputId": "3939f7d3-13c4-4ce2-8fed-4c2d44559c36"
      },
      "execution_count": 8,
      "outputs": [
        {
          "output_type": "stream",
          "name": "stdout",
          "text": [
            "start: svm\n",
            "svm algo has trained\n",
            "start: random_forest\n",
            "random_forest algo has trained\n",
            "start: knn\n",
            "knn algo has trained\n"
          ]
        }
      ]
    },
    {
      "cell_type": "code",
      "source": [
        "import numpy as np\n",
        "import seaborn as sns\n",
        "import matplotlib.pyplot as plt\n",
        "from sklearn.metrics import confusion_matrix\n",
        "\n",
        "def plot_confusion_matrix(confusion_matrix, labels, title):\n",
        "    plt.figure(figsize=(8, 6))\n",
        "    sns.heatmap(confusion_matrix, annot=True, fmt=\"d\", cmap=\"YlGnBu\", xticklabels=labels, yticklabels=labels)\n",
        "    plt.xlabel(\"Predicted Labels\")\n",
        "    plt.ylabel(\"True Labels\")\n",
        "    plt.title(title)\n",
        "    plt.show()\n",
        "\n",
        "# Define the labels for the classes\n",
        "class_labels = ['No DB', 'Mild', 'Severe']\n",
        "\n",
        "# Assuming you have the confusion matrices stored in a dictionary called 'conf'\n",
        "# where keys are the algorithm names ('svm', 'random_forest', 'knn') and values are the confusion matrices\n",
        "\n",
        "# Create subplots for the three confusion matrices in one line\n",
        "fig, axes = plt.subplots(1, 3, figsize=(18, 4))\n",
        "\n",
        "# Plot confusion matrix for algorithm 1\n",
        "sns.heatmap(conf['svm'], annot=True, fmt=\"d\", cmap=\"magma\", xticklabels=class_labels, yticklabels=class_labels, ax=axes[0])\n",
        "axes[0].set_xlabel(\"Predicted Labels\")\n",
        "axes[0].set_ylabel(\"True Labels\")\n",
        "axes[0].set_title(\"SVM Confusion Matrix\")\n",
        "\n",
        "# Plot confusion matrix for algorithm 2\n",
        "sns.heatmap(conf['random_forest'], annot=True, fmt=\"d\", cmap=\"magma\", xticklabels=class_labels, yticklabels=class_labels, ax=axes[1])\n",
        "axes[1].set_xlabel(\"Predicted Labels\")\n",
        "axes[1].set_ylabel(\"True Labels\")\n",
        "axes[1].set_title(\"Random Forest Confusion Matrix\")\n",
        "\n",
        "# Plot confusion matrix for algorithm 3\n",
        "sns.heatmap(conf['knn'], annot=True, fmt=\"d\", cmap=\"magma\", xticklabels=class_labels, yticklabels=class_labels, ax=axes[2])\n",
        "axes[2].set_xlabel(\"Predicted Labels\")\n",
        "axes[2].set_ylabel(\"True Labels\")\n",
        "axes[2].set_title(\"KNN Confusion Matrix\")\n",
        "\n",
        "plt.savefig('Confusion_Matrix_traditional_algorithms.png', transparent=True)\n",
        "plt.show()"
      ],
      "metadata": {
        "colab": {
          "base_uri": "https://localhost:8080/",
          "height": 241
        },
        "id": "JHC2fuwRd0hK",
        "outputId": "95c4898f-6556-40b3-b2c0-5844e2fd86db"
      },
      "execution_count": 15,
      "outputs": [
        {
          "output_type": "display_data",
          "data": {
            "text/plain": [
              "<Figure size 1800x400 with 6 Axes>"
            ],
            "image/png": "[encoded data removed]"
          },
          "metadata": {}
        }
      ]
    }
  ],
  "metadata": {
    "accelerator": "GPU",
    "colab": {
      "provenance": []
    },
    "kernelspec": {
      "display_name": "Python 3",
      "name": "python3"
    },
    "language_info": {
      "name": "python"
    }
  },
  "nbformat": 4,
  "nbformat_minor": 0
}